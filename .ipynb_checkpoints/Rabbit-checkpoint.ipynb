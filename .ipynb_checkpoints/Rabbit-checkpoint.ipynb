{
 "cells": [
  {
   "cell_type": "code",
   "execution_count": 1,
   "id": "d5e49108-b6b4-4772-a335-8668eb7367ec",
   "metadata": {},
   "outputs": [],
   "source": [
    "import torch"
   ]
  },
  {
   "cell_type": "code",
   "execution_count": 2,
   "id": "e1e0653c-9ee9-4d69-95f7-64180dd6c8c1",
   "metadata": {},
   "outputs": [],
   "source": [
    "import torch.nn as nn"
   ]
  },
  {
   "cell_type": "code",
   "execution_count": 3,
   "id": "c22ada69-ff91-46fd-b6ea-ecb6f2bb013e",
   "metadata": {},
   "outputs": [],
   "source": [
    "import numpy as np"
   ]
  },
  {
   "cell_type": "code",
   "execution_count": 4,
   "id": "5ee6cafb-bf9a-406f-8bed-01da87669101",
   "metadata": {},
   "outputs": [],
   "source": [
    "import torch.optim as optim"
   ]
  },
  {
   "cell_type": "markdown",
   "id": "30cbb8f0-a5b3-402a-945e-04c25a2d6164",
   "metadata": {},
   "source": [
    "Gerando dados random para simular(Seria entrada dos sensores)"
   ]
  },
  {
   "cell_type": "code",
   "execution_count": 5,
   "id": "323932ae-9097-4268-8291-facfa14209c3",
   "metadata": {},
   "outputs": [],
   "source": [
    "np.random.seed(50)"
   ]
  },
  {
   "cell_type": "markdown",
   "id": "aa4412f3-7ba8-47d9-b3ac-3cf8891a8991",
   "metadata": {},
   "source": [
    "gerando amostras"
   ]
  },
  {
   "cell_type": "code",
   "execution_count": 6,
   "id": "b9556b46-a562-4efe-92d7-c2c60145c8f7",
   "metadata": {
    "tags": []
   },
   "outputs": [],
   "source": [
    "X = np.random.randint(0, 100, (100, 5))"
   ]
  },
  {
   "cell_type": "markdown",
   "id": "9479a52b-ca0a-4d36-9bf1-dcf6619cbb19",
   "metadata": {},
   "source": [
    "definindo uma regra"
   ]
  },
  {
   "cell_type": "code",
   "execution_count": 7,
   "id": "49222110-d4b1-4cc1-bf95-f2976a47cd66",
   "metadata": {},
   "outputs": [],
   "source": [
    "y = ((X[:, 0] < 30) & (X[:, 2] < 30)).astype(int)"
   ]
  },
  {
   "cell_type": "markdown",
   "id": "534f4489-2561-4270-875c-43c14ff5fe98",
   "metadata": {},
   "source": [
    "convertendo para tensores"
   ]
  },
  {
   "cell_type": "code",
   "execution_count": 8,
   "id": "15ed5113-08bb-400f-b102-1ecacfa23f24",
   "metadata": {},
   "outputs": [],
   "source": [
    "X_tensor = torch.tensor(X, dtype=torch.float32)"
   ]
  },
  {
   "cell_type": "code",
   "execution_count": 9,
   "id": "1816c799-b9e5-4908-96df-2d84af3ac890",
   "metadata": {},
   "outputs": [],
   "source": [
    "y_tensor = torch.tensor(y, dtype=torch.float32).view(-1, 1)"
   ]
  },
  {
   "cell_type": "markdown",
   "id": "75f43b0e-d843-4d7f-8861-c11a65b9a627",
   "metadata": {},
   "source": [
    "definir o modelo"
   ]
  },
  {
   "cell_type": "code",
   "execution_count": 10,
   "id": "aa73ed8d-8a02-44e2-98b7-cf6adf321c02",
   "metadata": {},
   "outputs": [],
   "source": [
    "class RabbitNet(nn.Module):\n",
    "    def __init__(self):\n",
    "        super(RabbitNet, self).__init__()\n",
    "        self.rede = nn.Sequential(\n",
    "            nn.Linear(5, 8),\n",
    "            nn.ReLU(),\n",
    "            nn.Linear(8, 4),\n",
    "            nn.ReLU(),\n",
    "            nn.Linear(4, 2),\n",
    "            nn.ReLU(),\n",
    "            nn.Linear(2, 1),\n",
    "            nn.Sigmoid() \n",
    "        )\n",
    "    def forward(self, x):\n",
    "        return self.rede(x)\n"
   ]
  },
  {
   "cell_type": "code",
   "execution_count": 11,
   "id": "68b7d900-bcf8-4918-8f56-f3c45ef59a8b",
   "metadata": {},
   "outputs": [],
   "source": [
    "modelo = RabbitNet()"
   ]
  },
  {
   "cell_type": "code",
   "execution_count": 12,
   "id": "6ace251d-40ae-48bb-9779-3cdc9ca8bc2b",
   "metadata": {},
   "outputs": [],
   "source": [
    "criterio = nn.BCELoss() \n",
    "otimizador = optim.Adam(modelo.parameters(), lr=0.01)"
   ]
  },
  {
   "cell_type": "markdown",
   "id": "2773f942-6a08-4c74-bf12-d2b9a7eb6487",
   "metadata": {},
   "source": [
    "Treinando"
   ]
  },
  {
   "cell_type": "code",
   "execution_count": 13,
   "id": "e52cc3cb-7b6a-4b50-ac12-93e210bbddbe",
   "metadata": {},
   "outputs": [
    {
     "name": "stdout",
     "output_type": "stream",
     "text": [
      "Epoca 0 - Perda: 1.0024\n",
      "Epoca 50 - Perda: 0.6627\n",
      "Epoca 100 - Perda: 0.5004\n",
      "Epoca 150 - Perda: 0.3961\n",
      "Epoca 200 - Perda: 0.3299\n",
      "Epoca 250 - Perda: 0.2874\n",
      "Epoca 300 - Perda: 0.2595\n",
      "Epoca 350 - Perda: 0.2409\n",
      "Epoca 400 - Perda: 0.2283\n",
      "Epoca 450 - Perda: 0.2196\n"
     ]
    }
   ],
   "source": [
    "\n",
    "for epoca in range(500):\n",
    "    # Forward\n",
    "    saida = modelo(X_tensor)\n",
    "    perda = criterio(saida, y_tensor)\n",
    "\n",
    "    # Backward\n",
    "    otimizador.zero_grad()\n",
    "    perda.backward()\n",
    "    otimizador.step()\n",
    "\n",
    "    if epoca % 50 == 0:\n",
    "        print(f'Epoca {epoca} - Perda: {perda.item():.4f}')\n"
   ]
  },
  {
   "cell_type": "code",
   "execution_count": 14,
   "id": "c43b803b-5380-4a65-b0ec-c6e7b62a9657",
   "metadata": {},
   "outputs": [
    {
     "name": "stdout",
     "output_type": "stream",
     "text": [
      "\n",
      "Probabilidade de perigo: 0.09677249938249588\n",
      "✅ Área segura.\n"
     ]
    }
   ],
   "source": [
    "entrada_teste = torch.tensor([[20, 50, 20, 60, 1.5]], dtype=torch.float32)\n",
    "saida_teste = modelo(entrada_teste).item()\n",
    "\n",
    "print(\"\\nProbabilidade de perigo:\", saida_teste)\n",
    "if saida_teste > 0.5:\n",
    "    print(\"🛑 Perigo detectado!\")\n",
    "else:\n",
    "    print(\"✅ Área segura.\")"
   ]
  },
  {
   "cell_type": "code",
   "execution_count": null,
   "id": "de7b1a38-3974-46ed-ab7e-4402f3e68b15",
   "metadata": {},
   "outputs": [],
   "source": []
  }
 ],
 "metadata": {
  "kernelspec": {
   "display_name": "Python 3 (ipykernel)",
   "language": "python",
   "name": "python3"
  },
  "language_info": {
   "codemirror_mode": {
    "name": "ipython",
    "version": 3
   },
   "file_extension": ".py",
   "mimetype": "text/x-python",
   "name": "python",
   "nbconvert_exporter": "python",
   "pygments_lexer": "ipython3",
   "version": "3.9.13"
  }
 },
 "nbformat": 4,
 "nbformat_minor": 5
}
