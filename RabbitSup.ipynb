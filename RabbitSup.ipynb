{
 "cells": [
  {
   "cell_type": "code",
   "execution_count": 56,
   "id": "d5e49108-b6b4-4772-a335-8668eb7367ec",
   "metadata": {},
   "outputs": [],
   "source": [
    "import torch"
   ]
  },
  {
   "cell_type": "code",
   "execution_count": 57,
   "id": "e1e0653c-9ee9-4d69-95f7-64180dd6c8c1",
   "metadata": {},
   "outputs": [],
   "source": [
    "import torch.nn as nn"
   ]
  },
  {
   "cell_type": "code",
   "execution_count": 58,
   "id": "c22ada69-ff91-46fd-b6ea-ecb6f2bb013e",
   "metadata": {},
   "outputs": [],
   "source": [
    "import numpy as np"
   ]
  },
  {
   "cell_type": "code",
   "execution_count": 59,
   "id": "5ee6cafb-bf9a-406f-8bed-01da87669101",
   "metadata": {},
   "outputs": [],
   "source": [
    "import torch.optim as optim"
   ]
  },
  {
   "cell_type": "markdown",
   "id": "30cbb8f0-a5b3-402a-945e-04c25a2d6164",
   "metadata": {},
   "source": [
    "Gerando dados random para simular(Seria entrada dos sensores)"
   ]
  },
  {
   "cell_type": "markdown",
   "id": "aa4412f3-7ba8-47d9-b3ac-3cf8891a8991",
   "metadata": {},
   "source": [
    "gerando amostras"
   ]
  },
  {
   "cell_type": "code",
   "execution_count": 61,
   "id": "b9556b46-a562-4efe-92d7-c2c60145c8f7",
   "metadata": {
    "tags": []
   },
   "outputs": [],
   "source": [
    "X = np.random.randint(0, 100, (100, 5))"
   ]
  },
  {
   "cell_type": "code",
   "execution_count": 62,
   "id": "3529f234",
   "metadata": {},
   "outputs": [
    {
     "data": {
      "text/plain": [
       "array([[51, 92, 14, 71, 60],\n",
       "       [20, 82, 86, 74, 74],\n",
       "       [87, 99, 23,  2, 21],\n",
       "       [52,  1, 87, 29, 37],\n",
       "       [ 1, 63, 59, 20, 32],\n",
       "       [75, 57, 21, 88, 48],\n",
       "       [90, 58, 41, 91, 59],\n",
       "       [79, 14, 61, 61, 46],\n",
       "       [61, 50, 54, 63,  2],\n",
       "       [50,  6, 20, 72, 38],\n",
       "       [17,  3, 88, 59, 13],\n",
       "       [ 8, 89, 52,  1, 83],\n",
       "       [91, 59, 70, 43,  7],\n",
       "       [46, 34, 77, 80, 35],\n",
       "       [49,  3,  1,  5, 53],\n",
       "       [ 3, 53, 92, 62, 17],\n",
       "       [89, 43, 33, 73, 61],\n",
       "       [99, 13, 94, 47, 14],\n",
       "       [71, 77, 86, 61, 39],\n",
       "       [84, 79, 81, 52, 23],\n",
       "       [25, 88, 59, 40, 28],\n",
       "       [14, 44, 64, 88, 70],\n",
       "       [ 8, 87,  0,  7, 87],\n",
       "       [62, 10, 80,  7, 34],\n",
       "       [34, 32,  4, 40, 27],\n",
       "       [ 6, 72, 71, 11, 33],\n",
       "       [32, 47, 22, 61, 87],\n",
       "       [36, 98, 43, 85, 90],\n",
       "       [34, 64, 98, 46, 77],\n",
       "       [ 2,  0,  4, 89, 13],\n",
       "       [26,  8, 78, 14, 89],\n",
       "       [41, 76, 50, 62, 95],\n",
       "       [51, 95,  3, 93, 22],\n",
       "       [14, 42, 28, 35, 12],\n",
       "       [31, 70, 58, 85, 27],\n",
       "       [65, 41, 44, 61, 56],\n",
       "       [ 5, 27, 27, 43, 83],\n",
       "       [29, 61, 74, 91, 88],\n",
       "       [61, 96,  0, 26, 61],\n",
       "       [76,  2, 69, 71, 26],\n",
       "       [ 8, 61, 36, 96, 50],\n",
       "       [43, 23, 78, 58, 31],\n",
       "       [95, 87, 51, 61, 57],\n",
       "       [51, 11, 38,  1,  2],\n",
       "       [55, 80, 58,  1,  1],\n",
       "       [91, 53, 86, 95, 96],\n",
       "       [ 0, 18,  1, 52, 43],\n",
       "       [89, 31, 69, 31, 67],\n",
       "       [54, 74, 55, 16, 37],\n",
       "       [23, 68, 97, 69, 85],\n",
       "       [10, 15, 96, 72, 58],\n",
       "       [69, 79, 92,  2, 19],\n",
       "       [58, 35, 18, 89, 66],\n",
       "       [18, 19, 95, 70, 51],\n",
       "       [32, 39, 38, 81,  0],\n",
       "       [10, 91, 56, 88, 49],\n",
       "       [22, 30, 93, 41, 98],\n",
       "       [ 6, 15, 89, 59,  1],\n",
       "       [ 0, 47, 11, 68, 36],\n",
       "       [31,  8, 98, 18, 47],\n",
       "       [79,  2, 19, 23, 53],\n",
       "       [32, 23, 74, 71, 35],\n",
       "       [37, 83, 98, 88, 98],\n",
       "       [24, 92, 17, 81, 65],\n",
       "       [53, 34, 79, 60, 40],\n",
       "       [99, 32, 67, 32, 13],\n",
       "       [20, 47, 19,  7,  6],\n",
       "       [66, 16, 32, 47, 75],\n",
       "       [58, 85, 21, 29, 37],\n",
       "       [50, 53,  7, 26, 26],\n",
       "       [97, 20, 29, 96, 27],\n",
       "       [63, 96, 68, 60, 47],\n",
       "       [18,  3, 34, 63, 48],\n",
       "       [16, 43, 91, 29, 92],\n",
       "       [45,  5, 98, 36, 23],\n",
       "       [92, 45, 52, 94, 98],\n",
       "       [59, 96, 62, 84, 31],\n",
       "       [86, 32, 66, 17, 24],\n",
       "       [94, 53, 57, 66, 45],\n",
       "       [23, 31, 46, 85, 22],\n",
       "       [65, 26,  1, 89, 16],\n",
       "       [32,  8, 42, 47, 38],\n",
       "       [92, 41, 25, 98, 49],\n",
       "       [24, 23, 12, 59,  6],\n",
       "       [56, 35, 44, 19, 64],\n",
       "       [ 7, 15, 13, 75, 86],\n",
       "       [14, 91, 97, 65, 31],\n",
       "       [86, 62, 85, 50, 24],\n",
       "       [57, 62, 61, 21, 57],\n",
       "       [57, 85, 48, 51, 41],\n",
       "       [69, 14, 53, 59, 96],\n",
       "       [ 7, 52, 59,  4, 67],\n",
       "       [ 5, 95, 93, 46, 98],\n",
       "       [54, 39, 51, 15, 12],\n",
       "       [29, 18, 16, 62, 18],\n",
       "       [91, 57, 54, 89, 89],\n",
       "       [61, 22,  8, 11,  0],\n",
       "       [57,  0, 33, 95, 47],\n",
       "       [88,  0, 15, 60, 63],\n",
       "       [62, 68, 21, 92, 66]])"
      ]
     },
     "execution_count": 62,
     "metadata": {},
     "output_type": "execute_result"
    }
   ],
   "source": [
    "X"
   ]
  },
  {
   "cell_type": "markdown",
   "id": "9479a52b-ca0a-4d36-9bf1-dcf6619cbb19",
   "metadata": {},
   "source": [
    "definindo uma regra"
   ]
  },
  {
   "cell_type": "code",
   "execution_count": null,
   "id": "49222110-d4b1-4cc1-bf95-f2976a47cd66",
   "metadata": {},
   "outputs": [],
   "source": [
    "y = ((X[:, 0] < 30) & (X[:, 2] < 30)).astype(int)"
   ]
  },
  {
   "cell_type": "markdown",
   "id": "534f4489-2561-4270-875c-43c14ff5fe98",
   "metadata": {},
   "source": [
    "convertendo para tensores"
   ]
  },
  {
   "cell_type": "code",
   "execution_count": null,
   "id": "15ed5113-08bb-400f-b102-1ecacfa23f24",
   "metadata": {},
   "outputs": [],
   "source": [
    "X_tensor = torch.tensor(X, dtype=torch.float32)"
   ]
  },
  {
   "cell_type": "code",
   "execution_count": null,
   "id": "1816c799-b9e5-4908-96df-2d84af3ac890",
   "metadata": {},
   "outputs": [],
   "source": [
    "y_tensor = torch.tensor(y, dtype=torch.float32).view(-1, 1)"
   ]
  },
  {
   "cell_type": "code",
   "execution_count": null,
   "id": "c4f6a768",
   "metadata": {},
   "outputs": [],
   "source": [
    "X_tensor"
   ]
  },
  {
   "cell_type": "markdown",
   "id": "75f43b0e-d843-4d7f-8861-c11a65b9a627",
   "metadata": {},
   "source": [
    "definir o modelo"
   ]
  },
  {
   "cell_type": "code",
   "execution_count": null,
   "id": "aa73ed8d-8a02-44e2-98b7-cf6adf321c02",
   "metadata": {},
   "outputs": [],
   "source": [
    "class RabbitNet(nn.Module):\n",
    "    def __init__(self):\n",
    "        super(RabbitNet, self).__init__()\n",
    "        self.rede = nn.Sequential(\n",
    "            nn.Linear(5, 8),\n",
    "            nn.ReLU(),\n",
    "            nn.Linear(8, 4),\n",
    "            nn.ReLU(),\n",
    "            nn.Linear(4, 2),\n",
    "            nn.ReLU(),\n",
    "            nn.Linear(2, 1),\n",
    "            nn.Sigmoid() \n",
    "        )\n",
    "    def forward(self, x):\n",
    "        return self.rede(x)\n"
   ]
  },
  {
   "cell_type": "code",
   "execution_count": null,
   "id": "68b7d900-bcf8-4918-8f56-f3c45ef59a8b",
   "metadata": {},
   "outputs": [],
   "source": [
    "modelo = RabbitNet()"
   ]
  },
  {
   "cell_type": "code",
   "execution_count": null,
   "id": "6ace251d-40ae-48bb-9779-3cdc9ca8bc2b",
   "metadata": {},
   "outputs": [],
   "source": [
    "criterio = nn.BCELoss() \n",
    "otimizador = optim.Adam(modelo.parameters(), lr=0.01)"
   ]
  },
  {
   "cell_type": "markdown",
   "id": "2773f942-6a08-4c74-bf12-d2b9a7eb6487",
   "metadata": {},
   "source": [
    "Treinando"
   ]
  },
  {
   "cell_type": "code",
   "execution_count": null,
   "id": "e52cc3cb-7b6a-4b50-ac12-93e210bbddbe",
   "metadata": {},
   "outputs": [],
   "source": [
    "\n",
    "for epoca in range(500):\n",
    "    # Forward\n",
    "    saida = modelo(X_tensor)\n",
    "    perda = criterio(saida, y_tensor)\n",
    "\n",
    "    # Backward\n",
    "    otimizador.zero_grad()\n",
    "    perda.backward()\n",
    "    otimizador.step()\n",
    "\n",
    "    if epoca % 50 == 0:\n",
    "        print(f'Epoca {epoca} - Perda: {perda.item():.4f}')\n"
   ]
  },
  {
   "cell_type": "code",
   "execution_count": null,
   "id": "c43b803b-5380-4a65-b0ec-c6e7b62a9657",
   "metadata": {},
   "outputs": [],
   "source": [
    "entrada_teste = torch.tensor([[20, 50, 20, 60, 1.5]], dtype=torch.float32)\n",
    "saida_teste = modelo(entrada_teste).item()\n",
    "\n",
    "print(\"\\nProbabilidade de perigo:\", saida_teste)\n",
    "if saida_teste > 0.5:\n",
    "    print(\"🛑 Perigo detectado!\")\n",
    "else:\n",
    "    print(\"✅ Área segura.\")"
   ]
  },
  {
   "cell_type": "code",
   "execution_count": null,
   "id": "de7b1a38-3974-46ed-ab7e-4402f3e68b15",
   "metadata": {},
   "outputs": [],
   "source": []
  }
 ],
 "metadata": {
  "kernelspec": {
   "display_name": "rabbitprototipo",
   "language": "python",
   "name": "python3"
  },
  "language_info": {
   "codemirror_mode": {
    "name": "ipython",
    "version": 3
   },
   "file_extension": ".py",
   "mimetype": "text/x-python",
   "name": "python",
   "nbconvert_exporter": "python",
   "pygments_lexer": "ipython3",
   "version": "3.12.9"
  }
 },
 "nbformat": 4,
 "nbformat_minor": 5
}
